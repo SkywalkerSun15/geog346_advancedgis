{
 "cells": [
  {
   "cell_type": "markdown",
   "metadata": {},
   "source": [
    "# Week 1: Environment Setup for Advanced GIS"
   ]
  },
  {
   "cell_type": "markdown",
   "metadata": {},
   "source": [
    "Welcome to Week 1 of GEOG346 Advanced GIS! In this session, we will set up your software environment step by step. This guide covers installing essential tools and configuring them so you can focus on geospatial analysis throughout the course.\n",
    "\n",
    "---"
   ]
  },
  {
   "cell_type": "markdown",
   "metadata": {},
   "source": [
    "## Overview\n",
    "\n",
    "In this session, you will learn how to:\n",
    "- **Install and set up Miniconda** (or Anaconda) for Python package management.\n",
    "    -  **Install necessary Python packages** using both `conda` and `mamba`.\n",
    "- **Install Visual Studio Code (VS Code)** and configure essential extensions.\n",
    "- **Install and configure Git** for version control.\n",
    "\n",
    "*Note: Commands below are mostly the same on macOS and Windows. Differences are noted when applicable.*\n",
    "\n",
    "---"
   ]
  },
  {
   "cell_type": "markdown",
   "metadata": {},
   "source": [
    "## 1. Installing Miniconda\n",
    "\n",
    "[Miniconda](https://docs.conda.io/en/latest/miniconda.html) is a minimal installer for Conda. We will use it to manage Python packages and environments.\n",
    "\n",
    "### Download and Install\n",
    "\n",
    "### For macOS:\n",
    "1. **Download the Installer:**\n",
    "   - Visit the [Miniconda download page](https://docs.conda.io/en/latest/miniconda.html) and download the macOS installer.\n",
    "   - Choose the version appropriate for your hardware (Apple M1/M2 for ARM-based systems or x86_64 for Intel).\n",
    "\n",
    "2. **Install Miniconda:**\n",
    "   - Open the downloaded `.pkg` file.\n",
    "   - Follow the prompts (accept the license, choose installation directory).\n",
    "   - Allow the installer to add Miniconda to your shell profile.\n",
    "\n",
    "### For Windows:\n",
    "1. **Download the Installer:**\n",
    "   - Visit the [Miniconda download page](https://docs.conda.io/en/latest/miniconda.html) and download the Windows installer (64-bit).\n",
    "\n",
    "2. **Install Miniconda:**\n",
    "   - Run the downloaded `.exe` file.\n",
    "   - Follow the installation prompts.\n",
    "   - **Important:** If given the option, check the box to add Miniconda to your system PATH. If you do not, you'll need to add it manually (instructions are provided later)."
   ]
  },
  {
   "cell_type": "markdown",
   "metadata": {},
   "source": [
    "### Creating a New Conda Environment\n",
    "\n",
    "Open your Terminal (macOS) or Anaconda Prompt (Windows) and run:\n",
    "\n",
    "- **Create a new environment named \"geog346\" with Python 3.12:**\n",
    "\n",
    "    ```\n",
    "    conda create -n geog346 python=3.12\n",
    "    ```\n",
    "\n",
    "- **Activate the environment:**\n",
    "    - macOS and Linux:\n",
    "        ```\n",
    "        conda activate geo346\n",
    "        ```\n",
    "    - Windows:\n",
    "        ```\n",
    "        conda activate geo346\n",
    "        ```"
   ]
  },
  {
   "cell_type": "markdown",
   "metadata": {},
   "source": [
    "### Installing Essential Packages\n",
    "Within your new environment, install the key packages for this course:\n",
    "\n",
    "- Install Mamba for faster package management. First, install Mamba in the base environment:\n",
    "```\n",
    "conda install -n base mamba -c conda-forge\n",
    "```\n",
    "- Then, use Mamba to install packages in your \"geog346\" environment:\n",
    "```\n",
    "mamba install -n geog346 -c conda-forge geopandas rasterio xarray rioxarray leafmap geemap\n",
    "```\n",
    "\n",
    "### Manual PATH Setup for Windows (If Needed)\n",
    "\n",
    "If you did not add Conda to your PATH during installation, you can do it manually by following these steps:\n",
    "\n",
    "1. Open the **Start Menu** and search for **\"Environment Variables.\"**\n",
    "2. Click **\"Edit the system environment variables.\"**\n",
    "3. In the **System Properties** window, click **\"Environment Variables.\"**\n",
    "4. Under **\"System Variables,\"** find the **`Path`** variable and select it.\n",
    "5. Click **\"Edit\"** and then **\"New.\"**\n",
    "6. Add the following path (replace `<YourUsername>` with your actual username):`C:\\Users\\<YourUsername>\\miniconda3\\Scripts`\n",
    "7. Click **\"OK\"** to close all windows.\n",
    "\n",
    "---"
   ]
  },
  {
   "cell_type": "markdown",
   "metadata": {},
   "source": [
    "## 2. Installing Visual Studio Code (VS Code)\n",
    "\n",
    "Visual Studio Code is the code editor we will use for writing and running Python code.\n",
    "\n",
    "### Download and Install\n",
    "\n",
    "#### For macOS:\n",
    "- **Download:**\n",
    "  - Visit the [VS Code website](https://code.visualstudio.com/) and download the macOS version.\n",
    "- **Install:**\n",
    "  - Open the downloaded `.zip` file.\n",
    "  - Drag VS Code into your Applications folder.\n",
    "\n",
    "#### For Windows:\n",
    "- **Download:**\n",
    "  - Visit the [VS Code website](https://code.visualstudio.com/) and download the Windows installer.\n",
    "- **Install:**\n",
    "  - Run the installer and follow the on-screen instructions.\n",
    "\n",
    "### Configuring VS Code\n",
    "\n",
    "1. **Install Essential Extensions:**\n",
    "   - Open VS Code.\n",
    "   - Click the **Extensions** icon on the sidebar (or press `Ctrl+Shift+X` on Windows or `Cmd+Shift+X` on macOS).\n",
    "   - Search for and install the following extensions:\n",
    "     - **Python** \n",
    "     - **Jupyter** \n",
    "     - **Pylance** \n",
    "     - **autoDocstring**\n",
    "     - **Black Formatter**\n",
    "     - **Code Runner**\n",
    "     - **GitHub Actions**\n",
    "     - **GitHub Pull Requests**\n",
    "     - **IntelliCode**\n",
    "     - **Markdown All in One**\n",
    "     - **Markdown Shortcuts**\n",
    "     - **Prettier**\n",
    "     - **Pylint**\n",
    "     - **vscode-icons**\n",
    "    \n",
    "\n",
    "2. **Select Your Conda Environment:**\n",
    "   - Open the Command Palette (`Ctrl+Shift+P` on Windows or `Cmd+Shift+P` on macOS).\n",
    "   - Type and select **\"Python: Select Interpreter\"**.\n",
    "   - Choose the interpreter from your \"geog346\" environment (for example, it should appear as `.../miniconda3/envs/geog346/bin/python` on macOS or similar on Windows).\n",
    "\n",
    "### Keyboard shortcuts\n",
    "\n",
    "1. **Command Palette:** `Ctrl+Shift+P`\n",
    "2. **Search and open a file:** `Ctrl+P`\n",
    "3. **Go to Symbol:** `Ctrl+Shift+O`\n",
    "4. **Move line up and down:** `Alt+Arrow up/down`\n",
    "5. **Go to line number:** `Ctrl+G`\n",
    "6. **Cut the Entire Line:** `Ctrl+X`\n",
    "7. **Select the entire line:** Triple-clicking at the line of the line\n",
    "8. **Markdown preview:** `Ctrl+K V`\n",
    "9. **Zen Mode:** `View > Appearance > Toggle Zen Mode`\n",
    "10. **Split view:** `View > Editor Layout > Split Up`\n",
    "11. **Edit multiple lines simultaneously**: Hold **Alt** and **click** to add a cursor in the places you want to type or edit the code.\n",
    "\n",
    "### References\n",
    "\n",
    "- [Visual Studio keyboard shortcuts for Windows](https://code.visualstudio.com/shortcuts/keyboard-shortcuts-windows.pdf)\n",
    "- [Visual Studio keyboard shortcuts for macOS](https://code.visualstudio.com/shortcuts/keyboard-shortcuts-macos.pdf)\n",
    "\n",
    "---"
   ]
  },
  {
   "cell_type": "markdown",
   "metadata": {},
   "source": [
    "\n"
   ]
  }
 ],
 "metadata": {
  "kernelspec": {
   "display_name": "geog346",
   "language": "python",
   "name": "python3"
  },
  "language_info": {
   "name": "python",
   "version": "3.12.9"
  }
 },
 "nbformat": 4,
 "nbformat_minor": 2
}
